{
 "cells": [
  {
   "cell_type": "code",
   "execution_count": null,
   "metadata": {},
   "outputs": [],
   "source": [
    "from scripts.data_prep import load_admin_level\n",
    "from scripts.zonal_stats import compute_band_stats\n",
    "\n",
    "# Cargar distritos\n",
    "gdf = load_admin_level(\"district\")\n",
    "print(gdf.head())\n",
    "\n",
    "# Calcular estadísticas en la banda 1\n",
    "res = compute_band_stats(gdf, tif_name=\"tmin_peru.tif\", band=1)\n",
    "print(res.head())"
   ]
  }
 ],
 "metadata": {
  "kernelspec": {
   "display_name": "Python 3",
   "language": "python",
   "name": "python3"
  },
  "language_info": {
   "name": "python",
   "version": "3.10"
  }
 },
 "nbformat": 4,
 "nbformat_minor": 2
}
